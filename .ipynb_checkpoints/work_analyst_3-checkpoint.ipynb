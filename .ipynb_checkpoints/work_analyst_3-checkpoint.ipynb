{
 "cells": [
  {
   "cell_type": "markdown",
   "id": "b7d3205f-11fd-4a17-a3fd-b6125c2d69c3",
   "metadata": {},
   "source": [
    "# Загрузка данных"
   ]
  },
  {
   "cell_type": "code",
   "execution_count": 39,
   "id": "46a8e795-e7ae-4cff-9bb4-4bb020850def",
   "metadata": {},
   "outputs": [],
   "source": [
    "import psycopg2\n",
    "import requests\n",
    "import json\n",
    "import time\n",
    "from psycopg2.extras import Json\n",
    "import pandas as pd\n",
    "import numpy as np"
   ]
  },
  {
   "cell_type": "code",
   "execution_count": 40,
   "id": "1f95bec9-6582-4d3f-99cf-8ac583cd478f",
   "metadata": {},
   "outputs": [],
   "source": [
    "conn = psycopg2.connect(\"dbname=postgres user=postgres host=localhost port=5432 password=123456\")"
   ]
  },
  {
   "cell_type": "code",
   "execution_count": 41,
   "id": "7aca234a-be6c-4507-aa87-cf1fe3632edb",
   "metadata": {},
   "outputs": [],
   "source": [
    "cur = conn.cursor()\n",
    "cur.execute(\"select id, area, name, salary_from, salary_to, currency from analyst_2;\")\n",
    "vacs = cur.fetchall()"
   ]
  },
  {
   "cell_type": "code",
   "execution_count": 42,
   "id": "cc8020b8-fc4b-4f87-b083-808c02ef8761",
   "metadata": {},
   "outputs": [],
   "source": [
    "an2 = pd.DataFrame(vacs)"
   ]
  },
  {
   "cell_type": "code",
   "execution_count": 43,
   "id": "fe6fa637-d705-4b5c-add8-656dc3cc4743",
   "metadata": {},
   "outputs": [
    {
     "data": {
      "text/html": [
       "<div>\n",
       "<style scoped>\n",
       "    .dataframe tbody tr th:only-of-type {\n",
       "        vertical-align: middle;\n",
       "    }\n",
       "\n",
       "    .dataframe tbody tr th {\n",
       "        vertical-align: top;\n",
       "    }\n",
       "\n",
       "    .dataframe thead th {\n",
       "        text-align: right;\n",
       "    }\n",
       "</style>\n",
       "<table border=\"1\" class=\"dataframe\">\n",
       "  <thead>\n",
       "    <tr style=\"text-align: right;\">\n",
       "      <th></th>\n",
       "      <th>0</th>\n",
       "      <th>1</th>\n",
       "      <th>2</th>\n",
       "      <th>3</th>\n",
       "      <th>4</th>\n",
       "      <th>5</th>\n",
       "    </tr>\n",
       "  </thead>\n",
       "  <tbody>\n",
       "    <tr>\n",
       "      <th>0</th>\n",
       "      <td>106904824</td>\n",
       "      <td>Москва</td>\n",
       "      <td>Стажёр бизнес-аналитик</td>\n",
       "      <td>NaN</td>\n",
       "      <td>NaN</td>\n",
       "      <td>None</td>\n",
       "    </tr>\n",
       "    <tr>\n",
       "      <th>1</th>\n",
       "      <td>106910127</td>\n",
       "      <td>Москва</td>\n",
       "      <td>Junior Analyst</td>\n",
       "      <td>NaN</td>\n",
       "      <td>NaN</td>\n",
       "      <td>None</td>\n",
       "    </tr>\n",
       "    <tr>\n",
       "      <th>2</th>\n",
       "      <td>106916597</td>\n",
       "      <td>Москва</td>\n",
       "      <td>Junior Data Analyst</td>\n",
       "      <td>NaN</td>\n",
       "      <td>NaN</td>\n",
       "      <td>None</td>\n",
       "    </tr>\n",
       "    <tr>\n",
       "      <th>3</th>\n",
       "      <td>106692739</td>\n",
       "      <td>Казань</td>\n",
       "      <td>Бизнес-аналитик (стажер)</td>\n",
       "      <td>60000.0</td>\n",
       "      <td>70000.0</td>\n",
       "      <td>RUR</td>\n",
       "    </tr>\n",
       "    <tr>\n",
       "      <th>4</th>\n",
       "      <td>106100439</td>\n",
       "      <td>Санкт-Петербург</td>\n",
       "      <td>Менеджер – аналитик маркетплейса OZON</td>\n",
       "      <td>100000.0</td>\n",
       "      <td>NaN</td>\n",
       "      <td>RUR</td>\n",
       "    </tr>\n",
       "  </tbody>\n",
       "</table>\n",
       "</div>"
      ],
      "text/plain": [
       "           0                1                                      2  \\\n",
       "0  106904824           Москва                 Стажёр бизнес-аналитик   \n",
       "1  106910127           Москва                         Junior Analyst   \n",
       "2  106916597           Москва                    Junior Data Analyst   \n",
       "3  106692739           Казань               Бизнес-аналитик (стажер)   \n",
       "4  106100439  Санкт-Петербург  Менеджер – аналитик маркетплейса OZON   \n",
       "\n",
       "          3        4     5  \n",
       "0       NaN      NaN  None  \n",
       "1       NaN      NaN  None  \n",
       "2       NaN      NaN  None  \n",
       "3   60000.0  70000.0   RUR  \n",
       "4  100000.0      NaN   RUR  "
      ]
     },
     "execution_count": 43,
     "metadata": {},
     "output_type": "execute_result"
    }
   ],
   "source": [
    "an2.head()"
   ]
  },
  {
   "cell_type": "code",
   "execution_count": 44,
   "id": "3eaf781e-db59-4bf5-a439-0b331f58c79b",
   "metadata": {},
   "outputs": [
    {
     "data": {
      "text/html": [
       "<div>\n",
       "<style scoped>\n",
       "    .dataframe tbody tr th:only-of-type {\n",
       "        vertical-align: middle;\n",
       "    }\n",
       "\n",
       "    .dataframe tbody tr th {\n",
       "        vertical-align: top;\n",
       "    }\n",
       "\n",
       "    .dataframe thead th {\n",
       "        text-align: right;\n",
       "    }\n",
       "</style>\n",
       "<table border=\"1\" class=\"dataframe\">\n",
       "  <thead>\n",
       "    <tr style=\"text-align: right;\">\n",
       "      <th></th>\n",
       "      <th>id</th>\n",
       "      <th>area</th>\n",
       "      <th>name</th>\n",
       "      <th>s_from</th>\n",
       "      <th>s_to</th>\n",
       "      <th>currency</th>\n",
       "    </tr>\n",
       "  </thead>\n",
       "  <tbody>\n",
       "    <tr>\n",
       "      <th>0</th>\n",
       "      <td>106904824</td>\n",
       "      <td>Москва</td>\n",
       "      <td>Стажёр бизнес-аналитик</td>\n",
       "      <td>NaN</td>\n",
       "      <td>NaN</td>\n",
       "      <td>None</td>\n",
       "    </tr>\n",
       "    <tr>\n",
       "      <th>1</th>\n",
       "      <td>106910127</td>\n",
       "      <td>Москва</td>\n",
       "      <td>Junior Analyst</td>\n",
       "      <td>NaN</td>\n",
       "      <td>NaN</td>\n",
       "      <td>None</td>\n",
       "    </tr>\n",
       "    <tr>\n",
       "      <th>2</th>\n",
       "      <td>106916597</td>\n",
       "      <td>Москва</td>\n",
       "      <td>Junior Data Analyst</td>\n",
       "      <td>NaN</td>\n",
       "      <td>NaN</td>\n",
       "      <td>None</td>\n",
       "    </tr>\n",
       "    <tr>\n",
       "      <th>3</th>\n",
       "      <td>106692739</td>\n",
       "      <td>Казань</td>\n",
       "      <td>Бизнес-аналитик (стажер)</td>\n",
       "      <td>60000.0</td>\n",
       "      <td>70000.0</td>\n",
       "      <td>RUR</td>\n",
       "    </tr>\n",
       "    <tr>\n",
       "      <th>4</th>\n",
       "      <td>106100439</td>\n",
       "      <td>Санкт-Петербург</td>\n",
       "      <td>Менеджер – аналитик маркетплейса OZON</td>\n",
       "      <td>100000.0</td>\n",
       "      <td>NaN</td>\n",
       "      <td>RUR</td>\n",
       "    </tr>\n",
       "    <tr>\n",
       "      <th>...</th>\n",
       "      <td>...</td>\n",
       "      <td>...</td>\n",
       "      <td>...</td>\n",
       "      <td>...</td>\n",
       "      <td>...</td>\n",
       "      <td>...</td>\n",
       "    </tr>\n",
       "    <tr>\n",
       "      <th>937</th>\n",
       "      <td>105924183</td>\n",
       "      <td>Краснодар</td>\n",
       "      <td>Аналитик 1С (УХ)</td>\n",
       "      <td>NaN</td>\n",
       "      <td>NaN</td>\n",
       "      <td>None</td>\n",
       "    </tr>\n",
       "    <tr>\n",
       "      <th>938</th>\n",
       "      <td>105239323</td>\n",
       "      <td>Санкт-Петербург</td>\n",
       "      <td>Системный аналитик DWH (RWA ПВР)</td>\n",
       "      <td>NaN</td>\n",
       "      <td>NaN</td>\n",
       "      <td>None</td>\n",
       "    </tr>\n",
       "    <tr>\n",
       "      <th>939</th>\n",
       "      <td>105803837</td>\n",
       "      <td>Казань</td>\n",
       "      <td>Аналитик 1С (ERP, УТ) в IT-компании</td>\n",
       "      <td>NaN</td>\n",
       "      <td>NaN</td>\n",
       "      <td>None</td>\n",
       "    </tr>\n",
       "    <tr>\n",
       "      <th>940</th>\n",
       "      <td>104906884</td>\n",
       "      <td>Москва</td>\n",
       "      <td>Ведущий консультант-аналитик 1С: ERP (закупки,...</td>\n",
       "      <td>NaN</td>\n",
       "      <td>NaN</td>\n",
       "      <td>None</td>\n",
       "    </tr>\n",
       "    <tr>\n",
       "      <th>941</th>\n",
       "      <td>106137803</td>\n",
       "      <td>Минск</td>\n",
       "      <td>Системный аналитик</td>\n",
       "      <td>NaN</td>\n",
       "      <td>NaN</td>\n",
       "      <td>None</td>\n",
       "    </tr>\n",
       "  </tbody>\n",
       "</table>\n",
       "<p>942 rows × 6 columns</p>\n",
       "</div>"
      ],
      "text/plain": [
       "            id             area  \\\n",
       "0    106904824           Москва   \n",
       "1    106910127           Москва   \n",
       "2    106916597           Москва   \n",
       "3    106692739           Казань   \n",
       "4    106100439  Санкт-Петербург   \n",
       "..         ...              ...   \n",
       "937  105924183        Краснодар   \n",
       "938  105239323  Санкт-Петербург   \n",
       "939  105803837           Казань   \n",
       "940  104906884           Москва   \n",
       "941  106137803            Минск   \n",
       "\n",
       "                                                  name    s_from     s_to  \\\n",
       "0                               Стажёр бизнес-аналитик       NaN      NaN   \n",
       "1                                       Junior Analyst       NaN      NaN   \n",
       "2                                  Junior Data Analyst       NaN      NaN   \n",
       "3                             Бизнес-аналитик (стажер)   60000.0  70000.0   \n",
       "4                Менеджер – аналитик маркетплейса OZON  100000.0      NaN   \n",
       "..                                                 ...       ...      ...   \n",
       "937                                   Аналитик 1С (УХ)       NaN      NaN   \n",
       "938                   Системный аналитик DWH (RWA ПВР)       NaN      NaN   \n",
       "939                Аналитик 1С (ERP, УТ) в IT-компании       NaN      NaN   \n",
       "940  Ведущий консультант-аналитик 1С: ERP (закупки,...       NaN      NaN   \n",
       "941                                 Системный аналитик       NaN      NaN   \n",
       "\n",
       "    currency  \n",
       "0       None  \n",
       "1       None  \n",
       "2       None  \n",
       "3        RUR  \n",
       "4        RUR  \n",
       "..       ...  \n",
       "937     None  \n",
       "938     None  \n",
       "939     None  \n",
       "940     None  \n",
       "941     None  \n",
       "\n",
       "[942 rows x 6 columns]"
      ]
     },
     "execution_count": 44,
     "metadata": {},
     "output_type": "execute_result"
    }
   ],
   "source": [
    "# Rename columns\n",
    "an2.rename(columns={0: 'id', 1: 'area', 2: 'name', 3: 's_from', 4:'s_to', 5:'currency'}, inplace=True)\n",
    "an2"
   ]
  },
  {
   "cell_type": "code",
   "execution_count": 45,
   "id": "95397cbe-f522-4bdb-b4f1-9c023938d22d",
   "metadata": {},
   "outputs": [
    {
     "name": "stdout",
     "output_type": "stream",
     "text": [
      "<class 'pandas.core.frame.DataFrame'>\n",
      "RangeIndex: 942 entries, 0 to 941\n",
      "Data columns (total 6 columns):\n",
      " #   Column    Non-Null Count  Dtype  \n",
      "---  ------    --------------  -----  \n",
      " 0   id        942 non-null    int64  \n",
      " 1   area      942 non-null    object \n",
      " 2   name      942 non-null    object \n",
      " 3   s_from    364 non-null    float64\n",
      " 4   s_to      290 non-null    float64\n",
      " 5   currency  414 non-null    object \n",
      "dtypes: float64(2), int64(1), object(3)\n",
      "memory usage: 44.3+ KB\n"
     ]
    }
   ],
   "source": [
    "an2.info()"
   ]
  },
  {
   "cell_type": "code",
   "execution_count": 46,
   "id": "79b89056-0e29-4d70-b46d-f696428de056",
   "metadata": {},
   "outputs": [
    {
     "data": {
      "text/html": [
       "<div>\n",
       "<style scoped>\n",
       "    .dataframe tbody tr th:only-of-type {\n",
       "        vertical-align: middle;\n",
       "    }\n",
       "\n",
       "    .dataframe tbody tr th {\n",
       "        vertical-align: top;\n",
       "    }\n",
       "\n",
       "    .dataframe thead th {\n",
       "        text-align: right;\n",
       "    }\n",
       "</style>\n",
       "<table border=\"1\" class=\"dataframe\">\n",
       "  <thead>\n",
       "    <tr style=\"text-align: right;\">\n",
       "      <th></th>\n",
       "      <th>id</th>\n",
       "      <th>s_from</th>\n",
       "      <th>s_to</th>\n",
       "    </tr>\n",
       "  </thead>\n",
       "  <tbody>\n",
       "    <tr>\n",
       "      <th>count</th>\n",
       "      <td>9.420000e+02</td>\n",
       "      <td>364.000000</td>\n",
       "      <td>290.000000</td>\n",
       "    </tr>\n",
       "    <tr>\n",
       "      <th>mean</th>\n",
       "      <td>1.051104e+08</td>\n",
       "      <td>126206.043956</td>\n",
       "      <td>185993.886207</td>\n",
       "    </tr>\n",
       "    <tr>\n",
       "      <th>std</th>\n",
       "      <td>3.538509e+06</td>\n",
       "      <td>76088.035982</td>\n",
       "      <td>108993.488096</td>\n",
       "    </tr>\n",
       "    <tr>\n",
       "      <th>min</th>\n",
       "      <td>7.910147e+07</td>\n",
       "      <td>600.000000</td>\n",
       "      <td>800.000000</td>\n",
       "    </tr>\n",
       "    <tr>\n",
       "      <th>25%</th>\n",
       "      <td>1.055254e+08</td>\n",
       "      <td>70000.000000</td>\n",
       "      <td>100000.000000</td>\n",
       "    </tr>\n",
       "    <tr>\n",
       "      <th>50%</th>\n",
       "      <td>1.062253e+08</td>\n",
       "      <td>110000.000000</td>\n",
       "      <td>170000.000000</td>\n",
       "    </tr>\n",
       "    <tr>\n",
       "      <th>75%</th>\n",
       "      <td>1.067934e+08</td>\n",
       "      <td>180000.000000</td>\n",
       "      <td>250000.000000</td>\n",
       "    </tr>\n",
       "    <tr>\n",
       "      <th>max</th>\n",
       "      <td>1.069320e+08</td>\n",
       "      <td>390000.000000</td>\n",
       "      <td>550000.000000</td>\n",
       "    </tr>\n",
       "  </tbody>\n",
       "</table>\n",
       "</div>"
      ],
      "text/plain": [
       "                 id         s_from           s_to\n",
       "count  9.420000e+02     364.000000     290.000000\n",
       "mean   1.051104e+08  126206.043956  185993.886207\n",
       "std    3.538509e+06   76088.035982  108993.488096\n",
       "min    7.910147e+07     600.000000     800.000000\n",
       "25%    1.055254e+08   70000.000000  100000.000000\n",
       "50%    1.062253e+08  110000.000000  170000.000000\n",
       "75%    1.067934e+08  180000.000000  250000.000000\n",
       "max    1.069320e+08  390000.000000  550000.000000"
      ]
     },
     "execution_count": 46,
     "metadata": {},
     "output_type": "execute_result"
    }
   ],
   "source": [
    "an2.describe()"
   ]
  },
  {
   "cell_type": "code",
   "execution_count": 47,
   "id": "45907267-de1e-4e6e-abc7-5283f0ae5e8f",
   "metadata": {},
   "outputs": [
    {
     "data": {
      "text/plain": [
       "array(['Москва', 'Казань', 'Санкт-Петербург', 'Назрань', 'Пермь',\n",
       "       'Ростов-на-Дону', 'Выкса', 'Ижевск', 'Новосибирск', 'Астрахань',\n",
       "       'Эстония', 'Краснодар', 'Ярославль', 'Кипр', 'Сербия',\n",
       "       'Екатеринбург', 'Иркутск', 'Томск', 'Омск', 'Владимир',\n",
       "       'Калининград', 'Кемерово', 'Самара', 'Нижний Новгород', 'Тверь',\n",
       "       'Волгоград', 'Уфа', 'Рязань', 'Саратов', 'Липецк', 'Чебоксары',\n",
       "       'Набережные Челны', 'Красноярск', 'Ташкент', 'Владивосток',\n",
       "       'Белгород', 'Элиста', 'Саранск', 'Грозный', 'Тольятти', 'Армения',\n",
       "       'Курск', 'Астана', 'ОАЭ', 'Барнаул', 'Алматы',\n",
       "       'Артемовский (Свердловская область)', 'Тбилиси', 'Хабаровск',\n",
       "       'Ульяновск', 'Петрозаводск', 'США', 'Челябинск', 'Минск', 'Гомель',\n",
       "       'Тула', 'Иваново (Ивановская область)', 'Воронеж', 'Польша',\n",
       "       'Гродно', 'Брянск', 'Иннополис', 'Йошкар-Ола', 'Баку',\n",
       "       'Симферополь', 'Сочи', 'Химки (Московская область)', 'Пенза',\n",
       "       'Оренбург', 'Тюмень'], dtype=object)"
      ]
     },
     "execution_count": 47,
     "metadata": {},
     "output_type": "execute_result"
    }
   ],
   "source": [
    "an2.area.unique()"
   ]
  },
  {
   "cell_type": "code",
   "execution_count": 52,
   "id": "94221394-8750-4320-9911-1f209b84a1ce",
   "metadata": {},
   "outputs": [
    {
     "data": {
      "text/plain": [
       "currency\n",
       "RUR    395\n",
       "USD     15\n",
       "EUR      2\n",
       "BYR      1\n",
       "KZT      1\n",
       "Name: count, dtype: int64"
      ]
     },
     "execution_count": 52,
     "metadata": {},
     "output_type": "execute_result"
    }
   ],
   "source": [
    "an2.currency.value_counts()"
   ]
  },
  {
   "cell_type": "markdown",
   "id": "6062c59e-5e2a-4f0c-9303-be882b50eb89",
   "metadata": {},
   "source": []
  },
  {
   "cell_type": "code",
   "execution_count": 28,
   "id": "1cffb15f-406f-47d5-8896-2bf4931d1c26",
   "metadata": {},
   "outputs": [
    {
     "data": {
      "text/plain": [
       "<Axes: >"
      ]
     },
     "execution_count": 28,
     "metadata": {},
     "output_type": "execute_result"
    },
    {
     "data": {
      "image/png": "[encoded data removed]",
      "text/plain": [
       "<Figure size 640x480 with 1 Axes>"
      ]
     },
     "metadata": {},
     "output_type": "display_data"
    }
   ],
   "source": [
    "an2.s_from.hist()\n",
    "an2.s_to.hist(alpha=0.4)"
   ]
  },
  {
   "cell_type": "code",
   "execution_count": 29,
   "id": "7e35b82c-8921-4d68-9d43-448054e8023a",
   "metadata": {},
   "outputs": [
    {
     "data": {
      "text/plain": [
       "<Axes: >"
      ]
     },
     "execution_count": 29,
     "metadata": {},
     "output_type": "execute_result"
    },
    {
     "data": {
      "image/png": "[encoded data removed]",
      "text/plain": [
       "<Figure size 640x480 with 1 Axes>"
      ]
     },
     "metadata": {},
     "output_type": "display_data"
    }
   ],
   "source": [
    "df_s = an2.s_to < 500000\n",
    "\n",
    "an2[df_s].s_from.hist()\n",
    "an2[df_s].s_to.hist(alpha=0.4)"
   ]
  },
  {
   "cell_type": "code",
   "execution_count": 30,
   "id": "6f5363cf-eae7-4f9d-950a-533f028d6a14",
   "metadata": {},
   "outputs": [
    {
     "data": {
      "text/plain": [
       "ShapiroResult(statistic=np.float64(nan), pvalue=np.float64(nan))"
      ]
     },
     "execution_count": 30,
     "metadata": {},
     "output_type": "execute_result"
    }
   ],
   "source": [
    "import scipy\n",
    "import scipy.stats as stats\n",
    "stats.shapiro(an2.s_from)"
   ]
  },
  {
   "cell_type": "code",
   "execution_count": 31,
   "id": "9ace5f1f-91b4-4be2-9707-f71f1a4de860",
   "metadata": {},
   "outputs": [
    {
     "name": "stdout",
     "output_type": "stream",
     "text": [
      "Коэффициент ассиметрии: 0.6741312849289193\n",
      "Коэффициент эксцесса: 0.049218105634290854\n"
     ]
    }
   ],
   "source": [
    "# коэффициенты ассимметрии и эксцесса\n",
    "skew = an2.s_from.skew()\n",
    "kurt = an2.s_from.kurt()\n",
    "print('Коэффициент ассиметрии:', skew)\n",
    "print('Коэффициент эксцесса:', kurt)"
   ]
  },
  {
   "cell_type": "markdown",
   "id": "52cf804d-1349-4723-9de4-54989170d204",
   "metadata": {},
   "source": [
    "Коэффициент асимметрии (или скоса) показывает, насколько распределение данных отклоняется от симметричного. В вашем случае коэффициент асимметрии равен 0.629, что указывает на умеренно положительную асимметрию. Это значит, что в данных больше значений с длинным правым хвостом (положительный скошенность).\n",
    "\n",
    "Коэффициент эксцесса, равный -0.0038, близок к нулю, что говорит о том, что распределение данных имеет почти нормальный уровень \"остроты\" (или \"плоскости\"). В нормальном распределении коэффициент эксцесса равен нулю, так что отклонение незначительное.\n",
    "\n",
    "Таким образом, ваши данные могут быть описаны как слегка асимметричные с почти нормальной крутизной распределения."
   ]
  },
  {
   "cell_type": "code",
   "execution_count": 19,
   "id": "aa957d89-6dbc-45db-b506-4d06ade227b2",
   "metadata": {},
   "outputs": [
    {
     "data": {
      "text/plain": [
       "ShapiroResult(statistic=np.float64(nan), pvalue=np.float64(nan))"
      ]
     },
     "execution_count": 19,
     "metadata": {},
     "output_type": "execute_result"
    }
   ],
   "source": [
    "stats.shapiro(an2.s_to)"
   ]
  },
  {
   "cell_type": "code",
   "execution_count": 20,
   "id": "7b5a4c1a-7182-42ad-a664-c4d4c7c98ebc",
   "metadata": {},
   "outputs": [
    {
     "name": "stdout",
     "output_type": "stream",
     "text": [
      "Коэффициент ассиметрии: 0.8574759338230298\n",
      "Коэффициент эксцесса: 1.8367818525574755\n"
     ]
    }
   ],
   "source": [
    "# коэффициенты ассимметрии и эксцесса\n",
    "skew = an2.s_to.skew()\n",
    "kurt = an2.s_to.kurt()\n",
    "print('Коэффициент ассиметрии:', skew)\n",
    "print('Коэффициент эксцесса:', kurt)"
   ]
  },
  {
   "cell_type": "markdown",
   "id": "daa52d65-4216-4968-94d0-1b4396728fdc",
   "metadata": {},
   "source": [
    "Коэффициент асимметрии, равный 0.857, указывает на более выраженную положительную асимметрию. Это значит, что в вашем распределении больше значений с длинным правым хвостом, и распределение более смещено вправо по сравнению с предыдущими данными.\n",
    "\n",
    "Коэффициент эксцесса, равный 1.837, значительно больше нуля. Это означает, что распределение является более \"острым\" или пикообразным по сравнению с нормальным распределением, где эксцесс равен 0. Ваши данные демонстрируют повышенную концентрацию значений около среднего и более тяжелые хвосты."
   ]
  }
 ],
 "metadata": {
  "kernelspec": {
   "display_name": "Python 3 (ipykernel)",
   "language": "python",
   "name": "python3"
  },
  "language_info": {
   "codemirror_mode": {
    "name": "ipython",
    "version": 3
   },
   "file_extension": ".py",
   "mimetype": "text/x-python",
   "name": "python",
   "nbconvert_exporter": "python",
   "pygments_lexer": "ipython3",
   "version": "3.12.4"
  }
 },
 "nbformat": 4,
 "nbformat_minor": 5
}
