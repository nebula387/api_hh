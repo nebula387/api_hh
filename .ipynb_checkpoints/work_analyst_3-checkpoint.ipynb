{
 "cells": [
  {
   "cell_type": "code",
   "execution_count": 1,
   "id": "46a8e795-e7ae-4cff-9bb4-4bb020850def",
   "metadata": {},
   "outputs": [],
   "source": [
    "import psycopg2\n",
    "import requests\n",
    "import json\n",
    "import time\n",
    "from psycopg2.extras import Json\n",
    "import pandas as pd\n",
    "import numpy as np"
   ]
  },
  {
   "cell_type": "code",
   "execution_count": 2,
   "id": "1f95bec9-6582-4d3f-99cf-8ac583cd478f",
   "metadata": {},
   "outputs": [],
   "source": [
    "conn = psycopg2.connect(\"dbname=postgres user=postgres host=localhost port=5432 password=123456\")"
   ]
  },
  {
   "cell_type": "code",
   "execution_count": 3,
   "id": "a7a35882-327e-459b-946c-9e45390846b0",
   "metadata": {},
   "outputs": [],
   "source": [
    "cur = conn.cursor()\n",
    "cur.execute(\"select id, name, salary_from, salary_to, area, schedule from analyst_2;\")\n",
    "vacs = cur.fetchall()"
   ]
  },
  {
   "cell_type": "code",
   "execution_count": 4,
   "id": "cc8020b8-fc4b-4f87-b083-808c02ef8761",
   "metadata": {},
   "outputs": [],
   "source": [
    "an2 = pd.DataFrame(vacs)"
   ]
  },
  {
   "cell_type": "code",
   "execution_count": 5,
   "id": "fe6fa637-d705-4b5c-add8-656dc3cc4743",
   "metadata": {},
   "outputs": [
    {
     "data": {
      "text/html": [
       "<div>\n",
       "<style scoped>\n",
       "    .dataframe tbody tr th:only-of-type {\n",
       "        vertical-align: middle;\n",
       "    }\n",
       "\n",
       "    .dataframe tbody tr th {\n",
       "        vertical-align: top;\n",
       "    }\n",
       "\n",
       "    .dataframe thead th {\n",
       "        text-align: right;\n",
       "    }\n",
       "</style>\n",
       "<table border=\"1\" class=\"dataframe\">\n",
       "  <thead>\n",
       "    <tr style=\"text-align: right;\">\n",
       "      <th></th>\n",
       "      <th>0</th>\n",
       "      <th>1</th>\n",
       "      <th>2</th>\n",
       "      <th>3</th>\n",
       "      <th>4</th>\n",
       "      <th>5</th>\n",
       "    </tr>\n",
       "  </thead>\n",
       "  <tbody>\n",
       "    <tr>\n",
       "      <th>0</th>\n",
       "      <td>106692739</td>\n",
       "      <td>Бизнес-аналитик (стажер)</td>\n",
       "      <td>60000.0</td>\n",
       "      <td>70000.0</td>\n",
       "      <td>Казань</td>\n",
       "      <td>remote</td>\n",
       "    </tr>\n",
       "    <tr>\n",
       "      <th>1</th>\n",
       "      <td>106797840</td>\n",
       "      <td>Аналитик отчетности и планирования</td>\n",
       "      <td>NaN</td>\n",
       "      <td>NaN</td>\n",
       "      <td>Самара</td>\n",
       "      <td>remote</td>\n",
       "    </tr>\n",
       "    <tr>\n",
       "      <th>2</th>\n",
       "      <td>106781430</td>\n",
       "      <td>Аналитик данных (команда Retail)</td>\n",
       "      <td>NaN</td>\n",
       "      <td>NaN</td>\n",
       "      <td>Москва</td>\n",
       "      <td>remote</td>\n",
       "    </tr>\n",
       "    <tr>\n",
       "      <th>3</th>\n",
       "      <td>104461044</td>\n",
       "      <td>Младший аналитик данных</td>\n",
       "      <td>10000.0</td>\n",
       "      <td>45000.0</td>\n",
       "      <td>Назрань</td>\n",
       "      <td>remote</td>\n",
       "    </tr>\n",
       "    <tr>\n",
       "      <th>4</th>\n",
       "      <td>106469611</td>\n",
       "      <td>Младший аналитик</td>\n",
       "      <td>NaN</td>\n",
       "      <td>75000.0</td>\n",
       "      <td>Москва</td>\n",
       "      <td>remote</td>\n",
       "    </tr>\n",
       "  </tbody>\n",
       "</table>\n",
       "</div>"
      ],
      "text/plain": [
       "           0                                   1        2        3        4  \\\n",
       "0  106692739            Бизнес-аналитик (стажер)  60000.0  70000.0   Казань   \n",
       "1  106797840  Аналитик отчетности и планирования      NaN      NaN   Самара   \n",
       "2  106781430    Аналитик данных (команда Retail)      NaN      NaN   Москва   \n",
       "3  104461044             Младший аналитик данных  10000.0  45000.0  Назрань   \n",
       "4  106469611                    Младший аналитик      NaN  75000.0   Москва   \n",
       "\n",
       "        5  \n",
       "0  remote  \n",
       "1  remote  \n",
       "2  remote  \n",
       "3  remote  \n",
       "4  remote  "
      ]
     },
     "execution_count": 5,
     "metadata": {},
     "output_type": "execute_result"
    }
   ],
   "source": [
    "an2.head()"
   ]
  },
  {
   "cell_type": "code",
   "execution_count": 6,
   "id": "3eaf781e-db59-4bf5-a439-0b331f58c79b",
   "metadata": {},
   "outputs": [
    {
     "data": {
      "text/html": [
       "<div>\n",
       "<style scoped>\n",
       "    .dataframe tbody tr th:only-of-type {\n",
       "        vertical-align: middle;\n",
       "    }\n",
       "\n",
       "    .dataframe tbody tr th {\n",
       "        vertical-align: top;\n",
       "    }\n",
       "\n",
       "    .dataframe thead th {\n",
       "        text-align: right;\n",
       "    }\n",
       "</style>\n",
       "<table border=\"1\" class=\"dataframe\">\n",
       "  <thead>\n",
       "    <tr style=\"text-align: right;\">\n",
       "      <th></th>\n",
       "      <th>id</th>\n",
       "      <th>vacancy</th>\n",
       "      <th>s_from</th>\n",
       "      <th>s_to</th>\n",
       "      <th>area</th>\n",
       "      <th>schedule</th>\n",
       "    </tr>\n",
       "  </thead>\n",
       "  <tbody>\n",
       "    <tr>\n",
       "      <th>0</th>\n",
       "      <td>106692739</td>\n",
       "      <td>Бизнес-аналитик (стажер)</td>\n",
       "      <td>60000.0</td>\n",
       "      <td>70000.0</td>\n",
       "      <td>Казань</td>\n",
       "      <td>remote</td>\n",
       "    </tr>\n",
       "    <tr>\n",
       "      <th>1</th>\n",
       "      <td>106797840</td>\n",
       "      <td>Аналитик отчетности и планирования</td>\n",
       "      <td>NaN</td>\n",
       "      <td>NaN</td>\n",
       "      <td>Самара</td>\n",
       "      <td>remote</td>\n",
       "    </tr>\n",
       "    <tr>\n",
       "      <th>2</th>\n",
       "      <td>106781430</td>\n",
       "      <td>Аналитик данных (команда Retail)</td>\n",
       "      <td>NaN</td>\n",
       "      <td>NaN</td>\n",
       "      <td>Москва</td>\n",
       "      <td>remote</td>\n",
       "    </tr>\n",
       "    <tr>\n",
       "      <th>3</th>\n",
       "      <td>104461044</td>\n",
       "      <td>Младший аналитик данных</td>\n",
       "      <td>10000.0</td>\n",
       "      <td>45000.0</td>\n",
       "      <td>Назрань</td>\n",
       "      <td>remote</td>\n",
       "    </tr>\n",
       "    <tr>\n",
       "      <th>4</th>\n",
       "      <td>106469611</td>\n",
       "      <td>Младший аналитик</td>\n",
       "      <td>NaN</td>\n",
       "      <td>75000.0</td>\n",
       "      <td>Москва</td>\n",
       "      <td>remote</td>\n",
       "    </tr>\n",
       "    <tr>\n",
       "      <th>...</th>\n",
       "      <td>...</td>\n",
       "      <td>...</td>\n",
       "      <td>...</td>\n",
       "      <td>...</td>\n",
       "      <td>...</td>\n",
       "      <td>...</td>\n",
       "    </tr>\n",
       "    <tr>\n",
       "      <th>1061</th>\n",
       "      <td>106274183</td>\n",
       "      <td>Системный аналитик (1С)</td>\n",
       "      <td>NaN</td>\n",
       "      <td>NaN</td>\n",
       "      <td>Москва</td>\n",
       "      <td>remote</td>\n",
       "    </tr>\n",
       "    <tr>\n",
       "      <th>1062</th>\n",
       "      <td>105803837</td>\n",
       "      <td>Аналитик 1С (ERP, УТ) в IT-компании</td>\n",
       "      <td>NaN</td>\n",
       "      <td>NaN</td>\n",
       "      <td>Казань</td>\n",
       "      <td>remote</td>\n",
       "    </tr>\n",
       "    <tr>\n",
       "      <th>1063</th>\n",
       "      <td>104906884</td>\n",
       "      <td>Ведущий консультант-аналитик 1С: ERP (закупки,...</td>\n",
       "      <td>NaN</td>\n",
       "      <td>NaN</td>\n",
       "      <td>Москва</td>\n",
       "      <td>remote</td>\n",
       "    </tr>\n",
       "    <tr>\n",
       "      <th>1064</th>\n",
       "      <td>104428810</td>\n",
       "      <td>Аналитик 1С:ERP регламентированный учет + казн...</td>\n",
       "      <td>NaN</td>\n",
       "      <td>NaN</td>\n",
       "      <td>Самара</td>\n",
       "      <td>remote</td>\n",
       "    </tr>\n",
       "    <tr>\n",
       "      <th>1065</th>\n",
       "      <td>106137803</td>\n",
       "      <td>Системный аналитик</td>\n",
       "      <td>NaN</td>\n",
       "      <td>NaN</td>\n",
       "      <td>Минск</td>\n",
       "      <td>remote</td>\n",
       "    </tr>\n",
       "  </tbody>\n",
       "</table>\n",
       "<p>1066 rows × 6 columns</p>\n",
       "</div>"
      ],
      "text/plain": [
       "             id                                            vacancy   s_from  \\\n",
       "0     106692739                           Бизнес-аналитик (стажер)  60000.0   \n",
       "1     106797840                 Аналитик отчетности и планирования      NaN   \n",
       "2     106781430                   Аналитик данных (команда Retail)      NaN   \n",
       "3     104461044                            Младший аналитик данных  10000.0   \n",
       "4     106469611                                   Младший аналитик      NaN   \n",
       "...         ...                                                ...      ...   \n",
       "1061  106274183                            Системный аналитик (1С)      NaN   \n",
       "1062  105803837                Аналитик 1С (ERP, УТ) в IT-компании      NaN   \n",
       "1063  104906884  Ведущий консультант-аналитик 1С: ERP (закупки,...      NaN   \n",
       "1064  104428810  Аналитик 1С:ERP регламентированный учет + казн...      NaN   \n",
       "1065  106137803                                 Системный аналитик      NaN   \n",
       "\n",
       "         s_to     area schedule  \n",
       "0     70000.0   Казань   remote  \n",
       "1         NaN   Самара   remote  \n",
       "2         NaN   Москва   remote  \n",
       "3     45000.0  Назрань   remote  \n",
       "4     75000.0   Москва   remote  \n",
       "...       ...      ...      ...  \n",
       "1061      NaN   Москва   remote  \n",
       "1062      NaN   Казань   remote  \n",
       "1063      NaN   Москва   remote  \n",
       "1064      NaN   Самара   remote  \n",
       "1065      NaN    Минск   remote  \n",
       "\n",
       "[1066 rows x 6 columns]"
      ]
     },
     "execution_count": 6,
     "metadata": {},
     "output_type": "execute_result"
    }
   ],
   "source": [
    "# Rename columns\n",
    "an2.rename(columns={0: 'id', 1: 'vacancy', 2: 's_from', 3: 's_to', 4:'area', 5:'schedule'}, inplace=True)\n",
    "an2"
   ]
  },
  {
   "cell_type": "code",
   "execution_count": 7,
   "id": "95397cbe-f522-4bdb-b4f1-9c023938d22d",
   "metadata": {},
   "outputs": [
    {
     "name": "stdout",
     "output_type": "stream",
     "text": [
      "<class 'pandas.core.frame.DataFrame'>\n",
      "RangeIndex: 1066 entries, 0 to 1065\n",
      "Data columns (total 6 columns):\n",
      " #   Column    Non-Null Count  Dtype  \n",
      "---  ------    --------------  -----  \n",
      " 0   id        1066 non-null   int64  \n",
      " 1   vacancy   1066 non-null   object \n",
      " 2   s_from    382 non-null    float64\n",
      " 3   s_to      320 non-null    float64\n",
      " 4   area      1066 non-null   object \n",
      " 5   schedule  1066 non-null   object \n",
      "dtypes: float64(2), int64(1), object(3)\n",
      "memory usage: 50.1+ KB\n"
     ]
    }
   ],
   "source": [
    "an2.info()"
   ]
  },
  {
   "cell_type": "code",
   "execution_count": 8,
   "id": "79b89056-0e29-4d70-b46d-f696428de056",
   "metadata": {},
   "outputs": [
    {
     "data": {
      "text/html": [
       "<div>\n",
       "<style scoped>\n",
       "    .dataframe tbody tr th:only-of-type {\n",
       "        vertical-align: middle;\n",
       "    }\n",
       "\n",
       "    .dataframe tbody tr th {\n",
       "        vertical-align: top;\n",
       "    }\n",
       "\n",
       "    .dataframe thead th {\n",
       "        text-align: right;\n",
       "    }\n",
       "</style>\n",
       "<table border=\"1\" class=\"dataframe\">\n",
       "  <thead>\n",
       "    <tr style=\"text-align: right;\">\n",
       "      <th></th>\n",
       "      <th>id</th>\n",
       "      <th>s_from</th>\n",
       "      <th>s_to</th>\n",
       "    </tr>\n",
       "  </thead>\n",
       "  <tbody>\n",
       "    <tr>\n",
       "      <th>count</th>\n",
       "      <td>1.066000e+03</td>\n",
       "      <td>382.000000</td>\n",
       "      <td>320.000000</td>\n",
       "    </tr>\n",
       "    <tr>\n",
       "      <th>mean</th>\n",
       "      <td>1.049664e+08</td>\n",
       "      <td>124899.083770</td>\n",
       "      <td>184347.271875</td>\n",
       "    </tr>\n",
       "    <tr>\n",
       "      <th>std</th>\n",
       "      <td>3.994685e+06</td>\n",
       "      <td>74770.292537</td>\n",
       "      <td>112905.475860</td>\n",
       "    </tr>\n",
       "    <tr>\n",
       "      <th>min</th>\n",
       "      <td>5.241019e+07</td>\n",
       "      <td>300.000000</td>\n",
       "      <td>500.000000</td>\n",
       "    </tr>\n",
       "    <tr>\n",
       "      <th>25%</th>\n",
       "      <td>1.053856e+08</td>\n",
       "      <td>70000.000000</td>\n",
       "      <td>100000.000000</td>\n",
       "    </tr>\n",
       "    <tr>\n",
       "      <th>50%</th>\n",
       "      <td>1.061916e+08</td>\n",
       "      <td>110000.000000</td>\n",
       "      <td>175000.000000</td>\n",
       "    </tr>\n",
       "    <tr>\n",
       "      <th>75%</th>\n",
       "      <td>1.067359e+08</td>\n",
       "      <td>180000.000000</td>\n",
       "      <td>250000.000000</td>\n",
       "    </tr>\n",
       "    <tr>\n",
       "      <th>max</th>\n",
       "      <td>1.069025e+08</td>\n",
       "      <td>390000.000000</td>\n",
       "      <td>700000.000000</td>\n",
       "    </tr>\n",
       "  </tbody>\n",
       "</table>\n",
       "</div>"
      ],
      "text/plain": [
       "                 id         s_from           s_to\n",
       "count  1.066000e+03     382.000000     320.000000\n",
       "mean   1.049664e+08  124899.083770  184347.271875\n",
       "std    3.994685e+06   74770.292537  112905.475860\n",
       "min    5.241019e+07     300.000000     500.000000\n",
       "25%    1.053856e+08   70000.000000  100000.000000\n",
       "50%    1.061916e+08  110000.000000  175000.000000\n",
       "75%    1.067359e+08  180000.000000  250000.000000\n",
       "max    1.069025e+08  390000.000000  700000.000000"
      ]
     },
     "execution_count": 8,
     "metadata": {},
     "output_type": "execute_result"
    }
   ],
   "source": [
    "an2.describe()"
   ]
  },
  {
   "cell_type": "code",
   "execution_count": 9,
   "id": "45907267-de1e-4e6e-abc7-5283f0ae5e8f",
   "metadata": {},
   "outputs": [
    {
     "data": {
      "text/plain": [
       "array(['Казань', 'Самара', 'Москва', 'Назрань', 'Пермь',\n",
       "       'Санкт-Петербург', 'Ростов-на-Дону', 'Ижевск', 'Новосибирск',\n",
       "       'Эстония', 'Выкса', 'Челябинск', 'Красноярск', 'Ярославль',\n",
       "       'Иркутск', 'Сербия', 'Екатеринбург', 'Томск', 'Краснодар', 'Кипр',\n",
       "       'Владимир', 'Ташкент', 'Калининград', 'Кемерово',\n",
       "       'Нижний Новгород', 'Иннополис', 'Армения', 'Волгоград',\n",
       "       'Хабаровск', 'Уфа', 'Липецк', 'Воронеж', 'Элиста', 'Рязань',\n",
       "       'Волжский (Волгоградская область)', 'Набережные Челны',\n",
       "       'Севастополь', 'Чебоксары', 'Тбилиси',\n",
       "       'Артемовский (Свердловская область)', 'Белгород', 'Тольятти',\n",
       "       'Алматы', 'Грозный', 'Саранск', 'Барнаул', 'Караганда', 'ОАЭ',\n",
       "       'Иваново (Ивановская область)', 'Гомель', 'Польша', 'Петрозаводск',\n",
       "       'США', 'Новокузнецк', 'Баку', 'Минск', 'Тула', 'Брянск', 'Астана',\n",
       "       'Йошкар-Ола', 'Симферополь', 'Сочи', 'Ульяновск', 'Оренбург',\n",
       "       'Химки (Московская область)', 'Саратов', 'Пенза', 'Тюмень',\n",
       "       'Великий Новгород', 'Калуга', 'Смоленск', 'Брест', 'Тверь', 'Омск'],\n",
       "      dtype=object)"
      ]
     },
     "execution_count": 9,
     "metadata": {},
     "output_type": "execute_result"
    }
   ],
   "source": [
    "an2.area.unique()"
   ]
  },
  {
   "cell_type": "code",
   "execution_count": 10,
   "id": "1cffb15f-406f-47d5-8896-2bf4931d1c26",
   "metadata": {},
   "outputs": [
    {
     "data": {
      "text/plain": [
       "<Axes: >"
      ]
     },
     "execution_count": 10,
     "metadata": {},
     "output_type": "execute_result"
    },
    {
     "data": {
      "image/png": "[encoded data removed]",
      "text/plain": [
       "<Figure size 640x480 with 1 Axes>"
      ]
     },
     "metadata": {},
     "output_type": "display_data"
    }
   ],
   "source": [
    "an2.s_from.hist()\n",
    "an2.s_to.hist(alpha=0.4)"
   ]
  },
  {
   "cell_type": "code",
   "execution_count": 11,
   "id": "7e35b82c-8921-4d68-9d43-448054e8023a",
   "metadata": {},
   "outputs": [
    {
     "data": {
      "text/plain": [
       "<Axes: >"
      ]
     },
     "execution_count": 11,
     "metadata": {},
     "output_type": "execute_result"
    },
    {
     "data": {
      "image/png": "[encoded data removed]",
      "text/plain": [
       "<Figure size 640x480 with 1 Axes>"
      ]
     },
     "metadata": {},
     "output_type": "display_data"
    }
   ],
   "source": [
    "df_s = an2.s_to < 500000\n",
    "\n",
    "an2[df_s].s_from.hist()\n",
    "an2[df_s].s_to.hist(alpha=0.4)"
   ]
  },
  {
   "cell_type": "code",
   "execution_count": 17,
   "id": "6f5363cf-eae7-4f9d-950a-533f028d6a14",
   "metadata": {},
   "outputs": [
    {
     "data": {
      "text/plain": [
       "ShapiroResult(statistic=np.float64(nan), pvalue=np.float64(nan))"
      ]
     },
     "execution_count": 17,
     "metadata": {},
     "output_type": "execute_result"
    }
   ],
   "source": [
    "import scipy\n",
    "import scipy.stats as stats\n",
    "stats.shapiro(an2.s_from)"
   ]
  },
  {
   "cell_type": "code",
   "execution_count": 18,
   "id": "9ace5f1f-91b4-4be2-9707-f71f1a4de860",
   "metadata": {},
   "outputs": [
    {
     "name": "stdout",
     "output_type": "stream",
     "text": [
      "Коэффициент ассиметрии: 0.6290981825885746\n",
      "Коэффициент эксцесса: -0.00381946225845331\n"
     ]
    }
   ],
   "source": [
    "# коэффициенты ассимметрии и эксцесса\n",
    "skew = an2.s_from.skew()\n",
    "kurt = an2.s_from.kurt()\n",
    "print('Коэффициент ассиметрии:', skew)\n",
    "print('Коэффициент эксцесса:', kurt)"
   ]
  },
  {
   "cell_type": "markdown",
   "id": "52cf804d-1349-4723-9de4-54989170d204",
   "metadata": {},
   "source": [
    "Коэффициент асимметрии (или скоса) показывает, насколько распределение данных отклоняется от симметричного. В вашем случае коэффициент асимметрии равен 0.629, что указывает на умеренно положительную асимметрию. Это значит, что в данных больше значений с длинным правым хвостом (положительный скошенность).\n",
    "\n",
    "Коэффициент эксцесса, равный -0.0038, близок к нулю, что говорит о том, что распределение данных имеет почти нормальный уровень \"остроты\" (или \"плоскости\"). В нормальном распределении коэффициент эксцесса равен нулю, так что отклонение незначительное.\n",
    "\n",
    "Таким образом, ваши данные могут быть описаны как слегка асимметричные с почти нормальной крутизной распределения."
   ]
  },
  {
   "cell_type": "code",
   "execution_count": 19,
   "id": "aa957d89-6dbc-45db-b506-4d06ade227b2",
   "metadata": {},
   "outputs": [
    {
     "data": {
      "text/plain": [
       "ShapiroResult(statistic=np.float64(nan), pvalue=np.float64(nan))"
      ]
     },
     "execution_count": 19,
     "metadata": {},
     "output_type": "execute_result"
    }
   ],
   "source": [
    "stats.shapiro(an2.s_to)"
   ]
  },
  {
   "cell_type": "code",
   "execution_count": 20,
   "id": "7b5a4c1a-7182-42ad-a664-c4d4c7c98ebc",
   "metadata": {},
   "outputs": [
    {
     "name": "stdout",
     "output_type": "stream",
     "text": [
      "Коэффициент ассиметрии: 0.8574759338230298\n",
      "Коэффициент эксцесса: 1.8367818525574755\n"
     ]
    }
   ],
   "source": [
    "# коэффициенты ассимметрии и эксцесса\n",
    "skew = an2.s_to.skew()\n",
    "kurt = an2.s_to.kurt()\n",
    "print('Коэффициент ассиметрии:', skew)\n",
    "print('Коэффициент эксцесса:', kurt)"
   ]
  },
  {
   "cell_type": "markdown",
   "id": "daa52d65-4216-4968-94d0-1b4396728fdc",
   "metadata": {},
   "source": [
    "Коэффициент асимметрии, равный 0.857, указывает на более выраженную положительную асимметрию. Это значит, что в вашем распределении больше значений с длинным правым хвостом, и распределение более смещено вправо по сравнению с предыдущими данными.\n",
    "\n",
    "Коэффициент эксцесса, равный 1.837, значительно больше нуля. Это означает, что распределение является более \"острым\" или пикообразным по сравнению с нормальным распределением, где эксцесс равен 0. Ваши данные демонстрируют повышенную концентрацию значений около среднего и более тяжелые хвосты."
   ]
  }
 ],
 "metadata": {
  "kernelspec": {
   "display_name": "Python 3 (ipykernel)",
   "language": "python",
   "name": "python3"
  },
  "language_info": {
   "codemirror_mode": {
    "name": "ipython",
    "version": 3
   },
   "file_extension": ".py",
   "mimetype": "text/x-python",
   "name": "python",
   "nbconvert_exporter": "python",
   "pygments_lexer": "ipython3",
   "version": "3.12.4"
  }
 },
 "nbformat": 4,
 "nbformat_minor": 5
}
