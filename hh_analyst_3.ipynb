{
 "cells": [
  {
   "cell_type": "code",
   "execution_count": 3,
   "id": "5cbadcb7-9883-4a4d-8831-b7b2690451a3",
   "metadata": {},
   "outputs": [],
   "source": [
    "import psycopg2\n",
    "import requests\n",
    "import json\n",
    "import time\n",
    "from psycopg2.extras import Json\n",
    "import pandas as pd\n",
    "import numpy as np"
   ]
  },
  {
   "cell_type": "code",
   "execution_count": 4,
   "id": "0bcaa6a7-ec26-445c-83f5-fd8d0468aad0",
   "metadata": {},
   "outputs": [],
   "source": [
    "conn = psycopg2.connect(\"dbname=postgres user=postgres host=localhost port=5432 password=123456\")"
   ]
  },
  {
   "cell_type": "code",
   "execution_count": 5,
   "id": "aef75b64-df99-4578-8a78-616e6e0c5e8c",
   "metadata": {},
   "outputs": [],
   "source": [
    "base_url = 'https://api.hh.ru/vacancies'\n",
    "params = {\n",
    "    \"text\": \"NAME:Аналитик\",\n",
    "    # \"search_field\":[ \"exprerience\", \"schedule\"], \n",
    "    \"exprerience\":\"noExperience\",\n",
    "    \"schedule\": 'remote',\n",
    "    \"period\": 3,\n",
    "    \"per_page\": 100\n",
    "}"
   ]
  },
  {
   "cell_type": "code",
   "execution_count": 6,
   "id": "10ca3a0b-d89a-4de4-993d-6f7c3df0107a",
   "metadata": {},
   "outputs": [],
   "source": [
    "r = requests.get(base_url, params=params)"
   ]
  },
  {
   "cell_type": "code",
   "execution_count": 7,
   "id": "19d4f0d8-8765-44a9-ae24-70123d623e8d",
   "metadata": {},
   "outputs": [],
   "source": [
    "j = json.loads(r.content)"
   ]
  },
  {
   "cell_type": "code",
   "execution_count": 8,
   "id": "f44e7539-4936-4de6-bbd4-8909a3848291",
   "metadata": {},
   "outputs": [
    {
     "data": {
      "text/plain": [
       "942"
      ]
     },
     "execution_count": 8,
     "metadata": {},
     "output_type": "execute_result"
    }
   ],
   "source": [
    "j['found']"
   ]
  },
  {
   "cell_type": "code",
   "execution_count": 9,
   "id": "00439262-6bdb-41d2-9dd5-82c167a71652",
   "metadata": {},
   "outputs": [
    {
     "data": {
      "text/plain": [
       "{'id': '106100439',\n",
       " 'premium': False,\n",
       " 'name': 'Менеджер – аналитик маркетплейса OZON',\n",
       " 'department': None,\n",
       " 'has_test': False,\n",
       " 'response_letter_required': False,\n",
       " 'area': {'id': '2',\n",
       "  'name': 'Санкт-Петербург',\n",
       "  'url': 'https://api.hh.ru/areas/2'},\n",
       " 'salary': {'from': 100000, 'to': None, 'currency': 'RUR', 'gross': False},\n",
       " 'type': {'id': 'open', 'name': 'Открытая'},\n",
       " 'address': None,\n",
       " 'response_url': None,\n",
       " 'sort_point_distance': None,\n",
       " 'published_at': '2024-09-05T10:03:05+0300',\n",
       " 'created_at': '2024-09-05T10:03:05+0300',\n",
       " 'archived': False,\n",
       " 'apply_alternate_url': 'https://hh.ru/applicant/vacancy_response?vacancyId=106100439',\n",
       " 'insider_interview': None,\n",
       " 'url': 'https://api.hh.ru/vacancies/106100439?host=hh.ru',\n",
       " 'alternate_url': 'https://hh.ru/vacancy/106100439',\n",
       " 'relations': [],\n",
       " 'employer': {'id': '4438425',\n",
       "  'name': 'Михайлова Анастасия Алексеевна',\n",
       "  'url': 'https://api.hh.ru/employers/4438425',\n",
       "  'alternate_url': 'https://hh.ru/employer/4438425',\n",
       "  'logo_urls': None,\n",
       "  'vacancies_url': 'https://api.hh.ru/vacancies?employer_id=4438425',\n",
       "  'accredited_it_employer': False,\n",
       "  'trusted': True},\n",
       " 'snippet': {'requirement': 'Очень важен опыт работы с нишей женской одежды. Ищем ТОЛЬКО компетентного, опытного человека, с твёрдыми кейсами и достижениями.',\n",
       "  'responsibility': 'Работа с двумя кабинетами на Ozon. Контроль ключевых показателей (план продаж, маржинальность, оборачиваемость, ROI, % выкупа). Расчёт ценообразования, юнит экономики, подбор...'},\n",
       " 'contacts': None,\n",
       " 'schedule': {'id': 'remote', 'name': 'Удаленная работа'},\n",
       " 'working_days': [],\n",
       " 'working_time_intervals': [],\n",
       " 'working_time_modes': [],\n",
       " 'accept_temporary': False,\n",
       " 'professional_roles': [{'id': '68',\n",
       "   'name': 'Менеджер по маркетингу, интернет-маркетолог'}],\n",
       " 'accept_incomplete_resumes': False,\n",
       " 'experience': {'id': 'between1And3', 'name': 'От 1 года до 3 лет'},\n",
       " 'employment': {'id': 'full', 'name': 'Полная занятость'},\n",
       " 'adv_response_url': None,\n",
       " 'is_adv_vacancy': False,\n",
       " 'adv_context': None}"
      ]
     },
     "execution_count": 9,
     "metadata": {},
     "output_type": "execute_result"
    }
   ],
   "source": [
    "j['items'][4]"
   ]
  },
  {
   "cell_type": "raw",
   "id": "a27ec19c-f564-41fb-bb7b-ba6f34decb9b",
   "metadata": {},
   "source": [
    "cur = conn.cursor()\n",
    "conn.commit()\n",
    "cur.execute('create table analyst_2 (id int, name text, area text, salary_from, salary_to, currency);')\n",
    "cur.close()"
   ]
  },
  {
   "cell_type": "code",
   "execution_count": 11,
   "id": "e0d18726-bd1f-4aa4-88ba-ff14e996ddd8",
   "metadata": {},
   "outputs": [],
   "source": [
    "vac = j['items'][1]"
   ]
  },
  {
   "cell_type": "code",
   "execution_count": 12,
   "id": "7098b772-0651-40a2-a06d-7a00ac08399c",
   "metadata": {},
   "outputs": [
    {
     "data": {
      "text/plain": [
       "{'id': 'remote', 'name': 'Удаленная работа'}"
      ]
     },
     "execution_count": 12,
     "metadata": {},
     "output_type": "execute_result"
    }
   ],
   "source": [
    "vac['schedule']"
   ]
  },
  {
   "cell_type": "code",
   "execution_count": 13,
   "id": "d04839da-b917-4449-8040-776ee400bd76",
   "metadata": {},
   "outputs": [],
   "source": [
    "conn.commit()"
   ]
  },
  {
   "cell_type": "code",
   "execution_count": 14,
   "id": "07250edf-7098-48b2-bd6b-63c91b8aeb4d",
   "metadata": {},
   "outputs": [],
   "source": [
    "def insert_vacancy(vac):\n",
    "    cur = conn.cursor()\n",
    "    cur.execute(\"insert into analyst_2 values (%s, %s, %s, %s, %s, %s)\",\n",
    "                (vac['id'],\n",
    "                 vac['name'],     \n",
    "                 (lambda area: area['name'] if area else None)(vac['area']),\n",
    "                 (lambda salary: salary['from'] if salary else None)(vac['salary']),\n",
    "                 (lambda salary: salary['to'] if salary else None)(vac['salary']),\n",
    "                 (lambda schedule: schedule['currency'] if schedule else None)(vac['salary'])))\n",
    "    conn.commit()\n",
    "    cur.close()"
   ]
  },
  {
   "cell_type": "code",
   "execution_count": 15,
   "id": "6a71499b-01c8-42b6-bacc-0e3dc70639d0",
   "metadata": {},
   "outputs": [],
   "source": [
    "def save_vacancy(page=0):\n",
    "    print('Downloading page', page)\n",
    "    r = requests.get(base_url, params=dict(params, page=page))\n",
    "    time.sleep(1)\n",
    "    result = json.loads(r.content)\n",
    "    for v in result['items']:\n",
    "        insert_vacancy(v)\n",
    "    if len(result['items']) == 0:\n",
    "        return\n",
    "    else:\n",
    "        save_vacancy(page + 1)"
   ]
  },
  {
   "cell_type": "code",
   "execution_count": 16,
   "id": "d58a4577-817e-4b12-b71d-8b578ed7a111",
   "metadata": {},
   "outputs": [
    {
     "name": "stdout",
     "output_type": "stream",
     "text": [
      "Downloading page 0\n",
      "Downloading page 1\n",
      "Downloading page 2\n",
      "Downloading page 3\n",
      "Downloading page 4\n",
      "Downloading page 5\n",
      "Downloading page 6\n",
      "Downloading page 7\n",
      "Downloading page 8\n",
      "Downloading page 9\n",
      "Downloading page 10\n"
     ]
    }
   ],
   "source": [
    "save_vacancy()"
   ]
  },
  {
   "cell_type": "code",
   "execution_count": 66,
   "id": "153a2d67-a979-438d-b1a3-6a910907c9da",
   "metadata": {},
   "outputs": [],
   "source": [
    "# cur = conn.cursor()\n",
    "# cur.execute(\"select id, area, name, salary_from, salary_to, currency from analyst_2;\")\n",
    "# vacs = cur.fetchall()"
   ]
  },
  {
   "cell_type": "code",
   "execution_count": 67,
   "id": "60c92bc0-212d-441d-a047-1f7af857c9ed",
   "metadata": {},
   "outputs": [],
   "source": [
    "# Данные записаны в базу, чтобы получить новые очистите базу"
   ]
  },
  {
   "cell_type": "code",
   "execution_count": 68,
   "id": "5b5c410b-c892-4acb-be5c-9eb48d44eab4",
   "metadata": {},
   "outputs": [],
   "source": [
    "#######################"
   ]
  }
 ],
 "metadata": {
  "kernelspec": {
   "display_name": "Python 3 (ipykernel)",
   "language": "python",
   "name": "python3"
  },
  "language_info": {
   "codemirror_mode": {
    "name": "ipython",
    "version": 3
   },
   "file_extension": ".py",
   "mimetype": "text/x-python",
   "name": "python",
   "nbconvert_exporter": "python",
   "pygments_lexer": "ipython3",
   "version": "3.12.4"
  }
 },
 "nbformat": 4,
 "nbformat_minor": 5
}
