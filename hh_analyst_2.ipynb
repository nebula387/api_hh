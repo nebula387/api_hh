{
 "cells": [
  {
   "cell_type": "code",
   "execution_count": 39,
   "id": "5cbadcb7-9883-4a4d-8831-b7b2690451a3",
   "metadata": {},
   "outputs": [],
   "source": [
    "import psycopg2\n",
    "import requests\n",
    "import json\n",
    "import time\n",
    "from psycopg2.extras import Json\n",
    "import pandas as pd\n",
    "import numpy as np"
   ]
  },
  {
   "cell_type": "code",
   "execution_count": 40,
   "id": "0bcaa6a7-ec26-445c-83f5-fd8d0468aad0",
   "metadata": {},
   "outputs": [],
   "source": [
    "conn = psycopg2.connect(\"dbname=postgres user=postgres host=localhost port=5432 password=123456\")"
   ]
  },
  {
   "cell_type": "code",
   "execution_count": 41,
   "id": "aef75b64-df99-4578-8a78-616e6e0c5e8c",
   "metadata": {},
   "outputs": [],
   "source": [
    "base_url = 'https://api.hh.ru/vacancies'\n",
    "params = {\n",
    "    \"text\": \"NAME:Аналитик\",\n",
    "    # \"search_field\":[ \"exprerience\", \"schedule\"], \n",
    "    \"exprerience\":\"noExperience\",\n",
    "    \"schedule\": 'remote',\n",
    "    \"period\": 3,\n",
    "    \"per_page\": 100\n",
    "}"
   ]
  },
  {
   "cell_type": "code",
   "execution_count": 42,
   "id": "10ca3a0b-d89a-4de4-993d-6f7c3df0107a",
   "metadata": {},
   "outputs": [],
   "source": [
    "r = requests.get(base_url, params=params)"
   ]
  },
  {
   "cell_type": "code",
   "execution_count": 43,
   "id": "19d4f0d8-8765-44a9-ae24-70123d623e8d",
   "metadata": {},
   "outputs": [],
   "source": [
    "j = json.loads(r.content)"
   ]
  },
  {
   "cell_type": "code",
   "execution_count": 44,
   "id": "f44e7539-4936-4de6-bbd4-8909a3848291",
   "metadata": {},
   "outputs": [
    {
     "data": {
      "text/plain": [
       "1056"
      ]
     },
     "execution_count": 44,
     "metadata": {},
     "output_type": "execute_result"
    }
   ],
   "source": [
    "j['found']"
   ]
  },
  {
   "cell_type": "code",
   "execution_count": 45,
   "id": "00439262-6bdb-41d2-9dd5-82c167a71652",
   "metadata": {},
   "outputs": [
    {
     "data": {
      "text/plain": [
       "{'id': '106670791',\n",
       " 'premium': False,\n",
       " 'name': 'Младший аналитик / ресечер (удаленно)',\n",
       " 'department': None,\n",
       " 'has_test': False,\n",
       " 'response_letter_required': False,\n",
       " 'area': {'id': '1', 'name': 'Москва', 'url': 'https://api.hh.ru/areas/1'},\n",
       " 'salary': None,\n",
       " 'type': {'id': 'open', 'name': 'Открытая'},\n",
       " 'address': {'city': 'Москва',\n",
       "  'street': 'Бакунинская улица',\n",
       "  'building': '73с2',\n",
       "  'lat': 55.780228,\n",
       "  'lng': 37.692097,\n",
       "  'description': None,\n",
       "  'raw': 'Москва, Бакунинская улица, 73с2',\n",
       "  'metro': {'station_name': 'Электрозаводская',\n",
       "   'line_name': 'Арбатско-Покровская',\n",
       "   'station_id': '3.161',\n",
       "   'line_id': '3',\n",
       "   'lat': 55.782057,\n",
       "   'lng': 37.7053},\n",
       "  'metro_stations': [{'station_name': 'Электрозаводская',\n",
       "    'line_name': 'Арбатско-Покровская',\n",
       "    'station_id': '3.161',\n",
       "    'line_id': '3',\n",
       "    'lat': 55.782057,\n",
       "    'lng': 37.7053}],\n",
       "  'id': '13056378'},\n",
       " 'response_url': None,\n",
       " 'sort_point_distance': None,\n",
       " 'published_at': '2024-09-02T18:15:45+0300',\n",
       " 'created_at': '2024-09-02T18:15:45+0300',\n",
       " 'archived': False,\n",
       " 'apply_alternate_url': 'https://hh.ru/applicant/vacancy_response?vacancyId=106670791',\n",
       " 'show_logo_in_search': None,\n",
       " 'insider_interview': None,\n",
       " 'url': 'https://api.hh.ru/vacancies/106670791?host=hh.ru',\n",
       " 'alternate_url': 'https://hh.ru/vacancy/106670791',\n",
       " 'relations': [],\n",
       " 'employer': {'id': '3805596',\n",
       "  'name': 'Dau Relationship Marketing',\n",
       "  'url': 'https://api.hh.ru/employers/3805596',\n",
       "  'alternate_url': 'https://hh.ru/employer/3805596',\n",
       "  'logo_urls': {'90': 'https://img.hhcdn.ru/employer-logo/6875966.png',\n",
       "   'original': 'https://img.hhcdn.ru/employer-logo-original/1313927.png',\n",
       "   '240': 'https://img.hhcdn.ru/employer-logo/6875967.png'},\n",
       "  'vacancies_url': 'https://api.hh.ru/vacancies?employer_id=3805596',\n",
       "  'accredited_it_employer': False,\n",
       "  'trusted': True},\n",
       " 'snippet': {'requirement': 'Продуктивность и обучаемость. Будет очень много новой информации и новых знаний. Нужно быстро учиться и тут же применять знания на...',\n",
       "  'responsibility': 'Разрабатываем и внедряем стратегии CRM-маркетинга. Планируем и реализуем рекламные кампании. Разрабатываем и запускаем программы лояльности. Используем данные, чтобы проводить...'},\n",
       " 'contacts': None,\n",
       " 'schedule': {'id': 'remote', 'name': 'Удаленная работа'},\n",
       " 'working_days': [],\n",
       " 'working_time_intervals': [],\n",
       " 'working_time_modes': [],\n",
       " 'accept_temporary': True,\n",
       " 'professional_roles': [{'id': '10', 'name': 'Аналитик'}],\n",
       " 'accept_incomplete_resumes': True,\n",
       " 'experience': {'id': 'noExperience', 'name': 'Нет опыта'},\n",
       " 'employment': {'id': 'full', 'name': 'Полная занятость'},\n",
       " 'adv_response_url': None,\n",
       " 'is_adv_vacancy': False,\n",
       " 'adv_context': None}"
      ]
     },
     "execution_count": 45,
     "metadata": {},
     "output_type": "execute_result"
    }
   ],
   "source": [
    "j['items'][4]"
   ]
  },
  {
   "cell_type": "raw",
   "id": "a27ec19c-f564-41fb-bb7b-ba6f34decb9b",
   "metadata": {},
   "source": [
    "cur = conn.cursor()\n",
    "conn.commit()\n",
    "cur.execute('create table analyst (id int, name text, area text, salary_from, salary_to, schedule text);')\n",
    "cur.close()"
   ]
  },
  {
   "cell_type": "code",
   "execution_count": 46,
   "id": "e0d18726-bd1f-4aa4-88ba-ff14e996ddd8",
   "metadata": {},
   "outputs": [],
   "source": [
    "vac = j['items'][1]"
   ]
  },
  {
   "cell_type": "code",
   "execution_count": 47,
   "id": "7098b772-0651-40a2-a06d-7a00ac08399c",
   "metadata": {},
   "outputs": [
    {
     "data": {
      "text/plain": [
       "{'id': 'remote', 'name': 'Удаленная работа'}"
      ]
     },
     "execution_count": 47,
     "metadata": {},
     "output_type": "execute_result"
    }
   ],
   "source": [
    "vac['schedule']"
   ]
  },
  {
   "cell_type": "code",
   "execution_count": 48,
   "id": "d04839da-b917-4449-8040-776ee400bd76",
   "metadata": {},
   "outputs": [],
   "source": [
    "conn.commit()"
   ]
  },
  {
   "cell_type": "code",
   "execution_count": 49,
   "id": "8f217c33-56e7-4d74-9dbb-875bb94e0d65",
   "metadata": {},
   "outputs": [],
   "source": [
    "def maybe_(schedule):\n",
    "    try:\n",
    "        if schedule:\n",
    "            return schedule.get('id')\n",
    "        else:\n",
    "            return None\n",
    "    except:\n",
    "        return ''"
   ]
  },
  {
   "cell_type": "code",
   "execution_count": 50,
   "id": "851eea15-b953-469f-82ad-c68d0433fc59",
   "metadata": {},
   "outputs": [],
   "source": [
    "def get_area(area):\n",
    "    if area:\n",
    "        return area['name']\n",
    "    return None"
   ]
  },
  {
   "cell_type": "code",
   "execution_count": 51,
   "id": "7b397522-48a4-423c-aaa4-cbd59a44c417",
   "metadata": {},
   "outputs": [],
   "source": [
    "def salary_from(salary):\n",
    "    try:\n",
    "        if salary:\n",
    "            return salary['from']\n",
    "        return None\n",
    "    except:\n",
    "        return None"
   ]
  },
  {
   "cell_type": "code",
   "execution_count": 52,
   "id": "cd6c8734-92a2-4519-a450-475a260e801c",
   "metadata": {},
   "outputs": [],
   "source": [
    "def salary_to(salary):\n",
    "    try:\n",
    "        if salary:\n",
    "            return salary['to']\n",
    "        return None\n",
    "    except:\n",
    "        return None"
   ]
  },
  {
   "cell_type": "code",
   "execution_count": 53,
   "id": "07250edf-7098-48b2-bd6b-63c91b8aeb4d",
   "metadata": {},
   "outputs": [],
   "source": [
    "def insert_vacancy(vac):\n",
    "    cur = conn.cursor()\n",
    "    cur.execute(\"insert into analyst values (%s, %s, %s, %s, %s, %s)\",\n",
    "                (vac['id'], vac['name'],\n",
    "                 get_area(vac['area']),\n",
    "                 salary_from(vac['salary']),\n",
    "                 salary_to(vac['salary']),\n",
    "                 maybe_(vac['schedule'])))\n",
    "    conn.commit()\n",
    "    cur.close()"
   ]
  },
  {
   "cell_type": "code",
   "execution_count": 54,
   "id": "6a71499b-01c8-42b6-bacc-0e3dc70639d0",
   "metadata": {},
   "outputs": [],
   "source": [
    "def save_vacancy(page=0):\n",
    "    print('Downloading page', page)\n",
    "    r = requests.get(base_url, params=dict(params, page=page))\n",
    "    time.sleep(1)\n",
    "    result = json.loads(r.content)\n",
    "    for v in result['items']:\n",
    "        insert_vacancy(v)\n",
    "    if len(result['items']) == 0:\n",
    "        return\n",
    "    else:\n",
    "        save_vacancy(page + 1)"
   ]
  },
  {
   "cell_type": "code",
   "execution_count": 55,
   "id": "d58a4577-817e-4b12-b71d-8b578ed7a111",
   "metadata": {},
   "outputs": [
    {
     "name": "stdout",
     "output_type": "stream",
     "text": [
      "Downloading page 0\n",
      "Downloading page 1\n",
      "Downloading page 2\n",
      "Downloading page 3\n",
      "Downloading page 4\n",
      "Downloading page 5\n",
      "Downloading page 6\n",
      "Downloading page 7\n",
      "Downloading page 8\n",
      "Downloading page 9\n",
      "Downloading page 10\n",
      "Downloading page 11\n"
     ]
    }
   ],
   "source": [
    "save_vacancy()"
   ]
  },
  {
   "cell_type": "code",
   "execution_count": 56,
   "id": "153a2d67-a979-438d-b1a3-6a910907c9da",
   "metadata": {},
   "outputs": [],
   "source": [
    "cur = conn.cursor()\n",
    "cur.execute(\"select id, name, salary_from, salary_to, schedule from analyst limit 20;\")\n",
    "vacs = cur.fetchall()"
   ]
  },
  {
   "cell_type": "code",
   "execution_count": 57,
   "id": "60c92bc0-212d-441d-a047-1f7af857c9ed",
   "metadata": {},
   "outputs": [
    {
     "data": {
      "text/plain": [
       "[(106662573, 'Аналитик-стажер / Junior Analyst', 65000, None, 'remote'),\n",
       " (106707476, 'Координатор-аналитик базы данных', None, 75000, 'remote'),\n",
       " (106692739, 'Бизнес-аналитик (стажер)', 60000, 70000, 'remote'),\n",
       " (106469611, 'Младший аналитик', None, 75000, 'remote'),\n",
       " (106670791, 'Младший аналитик / ресечер (удаленно)', None, None, 'remote'),\n",
       " (106694474, 'Системный аналитик Junior', 70000, None, 'remote'),\n",
       " (106650793, 'Аналитик баз данных', 75000, None, 'remote'),\n",
       " (104461044, 'Младший аналитик данных', 10000, 45000, 'remote'),\n",
       " (106501312, 'Ассистент в отдел аналитики', 90000, 120000, 'remote'),\n",
       " (106558411, 'Аналитик данных (Python, Pandas, SQL)', 60000, None, 'remote'),\n",
       " (106655951, 'Data Analyst', None, None, 'remote'),\n",
       " (106722270, 'Продуктовый аналитик в команду каталога', None, None, 'remote'),\n",
       " (106632637, 'Junior Data Analyst', None, None, 'remote'),\n",
       " (106100439, 'Менеджер – аналитик маркетплейса OZON', 100000, None, 'remote'),\n",
       " (106691744, 'Аналитик данных', None, None, 'remote'),\n",
       " (106596692,\n",
       "  'Аналитик по оптимизации бизнес процессов - операционный интегратор',\n",
       "  70000,\n",
       "  140000,\n",
       "  'remote'),\n",
       " (106650167,\n",
       "  'Аналитик (количественные исследования)',\n",
       "  15000,\n",
       "  150000,\n",
       "  'remote'),\n",
       " (106551703,\n",
       "  'Бизнес-ассистент/Аналитик Акционера Компании',\n",
       "  200000,\n",
       "  300000,\n",
       "  'remote'),\n",
       " (106489547, 'Data аналитик', None, None, 'remote'),\n",
       " (106499470, 'Junior системный аналитик', None, 110000, 'remote')]"
      ]
     },
     "execution_count": 57,
     "metadata": {},
     "output_type": "execute_result"
    }
   ],
   "source": [
    "vacs"
   ]
  },
  {
   "cell_type": "code",
   "execution_count": 58,
   "id": "5b5c410b-c892-4acb-be5c-9eb48d44eab4",
   "metadata": {},
   "outputs": [],
   "source": [
    "#######################"
   ]
  },
  {
   "cell_type": "code",
   "execution_count": 61,
   "id": "301b8f32-4670-4c39-a896-216b0fa3ee3e",
   "metadata": {},
   "outputs": [],
   "source": [
    "an2 = pd.DataFrame(vacs)"
   ]
  },
  {
   "cell_type": "code",
   "execution_count": null,
   "id": "10ead8f5-1895-4cc9-a1f7-ef93fc547e4b",
   "metadata": {},
   "outputs": [],
   "source": []
  },
  {
   "cell_type": "code",
   "execution_count": 62,
   "id": "4a060eb2-7513-4c47-9f3d-46a711aaf690",
   "metadata": {},
   "outputs": [],
   "source": [
    "an2.to_csv('analysts_hh_0310.csv', index=False)"
   ]
  },
  {
   "cell_type": "code",
   "execution_count": 64,
   "id": "59e35956-d53d-47b8-93ec-d0b664388573",
   "metadata": {},
   "outputs": [
    {
     "data": {
      "text/html": [
       "<div>\n",
       "<style scoped>\n",
       "    .dataframe tbody tr th:only-of-type {\n",
       "        vertical-align: middle;\n",
       "    }\n",
       "\n",
       "    .dataframe tbody tr th {\n",
       "        vertical-align: top;\n",
       "    }\n",
       "\n",
       "    .dataframe thead th {\n",
       "        text-align: right;\n",
       "    }\n",
       "</style>\n",
       "<table border=\"1\" class=\"dataframe\">\n",
       "  <thead>\n",
       "    <tr style=\"text-align: right;\">\n",
       "      <th></th>\n",
       "      <th>0</th>\n",
       "      <th>1</th>\n",
       "      <th>2</th>\n",
       "      <th>3</th>\n",
       "      <th>4</th>\n",
       "    </tr>\n",
       "  </thead>\n",
       "  <tbody>\n",
       "    <tr>\n",
       "      <th>0</th>\n",
       "      <td>106662573</td>\n",
       "      <td>Аналитик-стажер / Junior Analyst</td>\n",
       "      <td>65000.0</td>\n",
       "      <td>NaN</td>\n",
       "      <td>remote</td>\n",
       "    </tr>\n",
       "    <tr>\n",
       "      <th>1</th>\n",
       "      <td>106707476</td>\n",
       "      <td>Координатор-аналитик базы данных</td>\n",
       "      <td>NaN</td>\n",
       "      <td>75000.0</td>\n",
       "      <td>remote</td>\n",
       "    </tr>\n",
       "    <tr>\n",
       "      <th>2</th>\n",
       "      <td>106692739</td>\n",
       "      <td>Бизнес-аналитик (стажер)</td>\n",
       "      <td>60000.0</td>\n",
       "      <td>70000.0</td>\n",
       "      <td>remote</td>\n",
       "    </tr>\n",
       "    <tr>\n",
       "      <th>3</th>\n",
       "      <td>106469611</td>\n",
       "      <td>Младший аналитик</td>\n",
       "      <td>NaN</td>\n",
       "      <td>75000.0</td>\n",
       "      <td>remote</td>\n",
       "    </tr>\n",
       "    <tr>\n",
       "      <th>4</th>\n",
       "      <td>106670791</td>\n",
       "      <td>Младший аналитик / ресечер (удаленно)</td>\n",
       "      <td>NaN</td>\n",
       "      <td>NaN</td>\n",
       "      <td>remote</td>\n",
       "    </tr>\n",
       "    <tr>\n",
       "      <th>5</th>\n",
       "      <td>106694474</td>\n",
       "      <td>Системный аналитик Junior</td>\n",
       "      <td>70000.0</td>\n",
       "      <td>NaN</td>\n",
       "      <td>remote</td>\n",
       "    </tr>\n",
       "    <tr>\n",
       "      <th>6</th>\n",
       "      <td>106650793</td>\n",
       "      <td>Аналитик баз данных</td>\n",
       "      <td>75000.0</td>\n",
       "      <td>NaN</td>\n",
       "      <td>remote</td>\n",
       "    </tr>\n",
       "    <tr>\n",
       "      <th>7</th>\n",
       "      <td>104461044</td>\n",
       "      <td>Младший аналитик данных</td>\n",
       "      <td>10000.0</td>\n",
       "      <td>45000.0</td>\n",
       "      <td>remote</td>\n",
       "    </tr>\n",
       "    <tr>\n",
       "      <th>8</th>\n",
       "      <td>106501312</td>\n",
       "      <td>Ассистент в отдел аналитики</td>\n",
       "      <td>90000.0</td>\n",
       "      <td>120000.0</td>\n",
       "      <td>remote</td>\n",
       "    </tr>\n",
       "    <tr>\n",
       "      <th>9</th>\n",
       "      <td>106558411</td>\n",
       "      <td>Аналитик данных (Python, Pandas, SQL)</td>\n",
       "      <td>60000.0</td>\n",
       "      <td>NaN</td>\n",
       "      <td>remote</td>\n",
       "    </tr>\n",
       "    <tr>\n",
       "      <th>10</th>\n",
       "      <td>106655951</td>\n",
       "      <td>Data Analyst</td>\n",
       "      <td>NaN</td>\n",
       "      <td>NaN</td>\n",
       "      <td>remote</td>\n",
       "    </tr>\n",
       "    <tr>\n",
       "      <th>11</th>\n",
       "      <td>106722270</td>\n",
       "      <td>Продуктовый аналитик в команду каталога</td>\n",
       "      <td>NaN</td>\n",
       "      <td>NaN</td>\n",
       "      <td>remote</td>\n",
       "    </tr>\n",
       "    <tr>\n",
       "      <th>12</th>\n",
       "      <td>106632637</td>\n",
       "      <td>Junior Data Analyst</td>\n",
       "      <td>NaN</td>\n",
       "      <td>NaN</td>\n",
       "      <td>remote</td>\n",
       "    </tr>\n",
       "    <tr>\n",
       "      <th>13</th>\n",
       "      <td>106100439</td>\n",
       "      <td>Менеджер – аналитик маркетплейса OZON</td>\n",
       "      <td>100000.0</td>\n",
       "      <td>NaN</td>\n",
       "      <td>remote</td>\n",
       "    </tr>\n",
       "    <tr>\n",
       "      <th>14</th>\n",
       "      <td>106691744</td>\n",
       "      <td>Аналитик данных</td>\n",
       "      <td>NaN</td>\n",
       "      <td>NaN</td>\n",
       "      <td>remote</td>\n",
       "    </tr>\n",
       "    <tr>\n",
       "      <th>15</th>\n",
       "      <td>106596692</td>\n",
       "      <td>Аналитик по оптимизации бизнес процессов - опе...</td>\n",
       "      <td>70000.0</td>\n",
       "      <td>140000.0</td>\n",
       "      <td>remote</td>\n",
       "    </tr>\n",
       "    <tr>\n",
       "      <th>16</th>\n",
       "      <td>106650167</td>\n",
       "      <td>Аналитик (количественные исследования)</td>\n",
       "      <td>15000.0</td>\n",
       "      <td>150000.0</td>\n",
       "      <td>remote</td>\n",
       "    </tr>\n",
       "    <tr>\n",
       "      <th>17</th>\n",
       "      <td>106551703</td>\n",
       "      <td>Бизнес-ассистент/Аналитик Акционера Компании</td>\n",
       "      <td>200000.0</td>\n",
       "      <td>300000.0</td>\n",
       "      <td>remote</td>\n",
       "    </tr>\n",
       "    <tr>\n",
       "      <th>18</th>\n",
       "      <td>106489547</td>\n",
       "      <td>Data аналитик</td>\n",
       "      <td>NaN</td>\n",
       "      <td>NaN</td>\n",
       "      <td>remote</td>\n",
       "    </tr>\n",
       "    <tr>\n",
       "      <th>19</th>\n",
       "      <td>106499470</td>\n",
       "      <td>Junior системный аналитик</td>\n",
       "      <td>NaN</td>\n",
       "      <td>110000.0</td>\n",
       "      <td>remote</td>\n",
       "    </tr>\n",
       "  </tbody>\n",
       "</table>\n",
       "</div>"
      ],
      "text/plain": [
       "            0                                                  1         2  \\\n",
       "0   106662573                   Аналитик-стажер / Junior Analyst   65000.0   \n",
       "1   106707476                   Координатор-аналитик базы данных       NaN   \n",
       "2   106692739                           Бизнес-аналитик (стажер)   60000.0   \n",
       "3   106469611                                   Младший аналитик       NaN   \n",
       "4   106670791              Младший аналитик / ресечер (удаленно)       NaN   \n",
       "5   106694474                          Системный аналитик Junior   70000.0   \n",
       "6   106650793                                Аналитик баз данных   75000.0   \n",
       "7   104461044                            Младший аналитик данных   10000.0   \n",
       "8   106501312                        Ассистент в отдел аналитики   90000.0   \n",
       "9   106558411              Аналитик данных (Python, Pandas, SQL)   60000.0   \n",
       "10  106655951                                       Data Analyst       NaN   \n",
       "11  106722270            Продуктовый аналитик в команду каталога       NaN   \n",
       "12  106632637                                Junior Data Analyst       NaN   \n",
       "13  106100439              Менеджер – аналитик маркетплейса OZON  100000.0   \n",
       "14  106691744                                    Аналитик данных       NaN   \n",
       "15  106596692  Аналитик по оптимизации бизнес процессов - опе...   70000.0   \n",
       "16  106650167             Аналитик (количественные исследования)   15000.0   \n",
       "17  106551703       Бизнес-ассистент/Аналитик Акционера Компании  200000.0   \n",
       "18  106489547                                      Data аналитик       NaN   \n",
       "19  106499470                          Junior системный аналитик       NaN   \n",
       "\n",
       "           3       4  \n",
       "0        NaN  remote  \n",
       "1    75000.0  remote  \n",
       "2    70000.0  remote  \n",
       "3    75000.0  remote  \n",
       "4        NaN  remote  \n",
       "5        NaN  remote  \n",
       "6        NaN  remote  \n",
       "7    45000.0  remote  \n",
       "8   120000.0  remote  \n",
       "9        NaN  remote  \n",
       "10       NaN  remote  \n",
       "11       NaN  remote  \n",
       "12       NaN  remote  \n",
       "13       NaN  remote  \n",
       "14       NaN  remote  \n",
       "15  140000.0  remote  \n",
       "16  150000.0  remote  \n",
       "17  300000.0  remote  \n",
       "18       NaN  remote  \n",
       "19  110000.0  remote  "
      ]
     },
     "execution_count": 64,
     "metadata": {},
     "output_type": "execute_result"
    }
   ],
   "source": [
    "an2.head(30)"
   ]
  },
  {
   "cell_type": "code",
   "execution_count": null,
   "id": "4c4c7d6f-89f6-4fe0-b2cf-0cd9a7c7e277",
   "metadata": {},
   "outputs": [],
   "source": []
  }
 ],
 "metadata": {
  "kernelspec": {
   "display_name": "Python 3 (ipykernel)",
   "language": "python",
   "name": "python3"
  },
  "language_info": {
   "codemirror_mode": {
    "name": "ipython",
    "version": 3
   },
   "file_extension": ".py",
   "mimetype": "text/x-python",
   "name": "python",
   "nbconvert_exporter": "python",
   "pygments_lexer": "ipython3",
   "version": "3.12.4"
  }
 },
 "nbformat": 4,
 "nbformat_minor": 5
}
